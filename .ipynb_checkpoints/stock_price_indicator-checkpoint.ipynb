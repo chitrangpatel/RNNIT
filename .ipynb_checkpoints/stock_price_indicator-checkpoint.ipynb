{
 "cells": [
  {
   "cell_type": "code",
   "execution_count": 231,
   "metadata": {
    "collapsed": true,
    "deletable": true,
    "editable": true
   },
   "outputs": [],
   "source": [
    "from yahoo_historical import Fetcher\n",
    "import matplotlib.pyplot as plt\n",
    "import numpy as np\n",
    "import pandas as pd"
   ]
  },
  {
   "cell_type": "code",
   "execution_count": 232,
   "metadata": {
    "collapsed": true,
    "deletable": true,
    "editable": true
   },
   "outputs": [],
   "source": [
    "tickers = ['^IXIC', 'AAPL', 'GOOGL', 'AMZN', 'NVDA', 'MSFT']\n",
    "dfs = []\n",
    "for t in tickers[1:]:\n",
    "    data = Fetcher(t, [2009,1,1], [2017,1,1])\n",
    "    data = data.getHistorical()\n",
    "    data[\"Date\"] = pd.to_datetime(data[\"Date\"])\n",
    "    \n",
    "    nasdaq = Fetcher(tickers[0], [2009,1,1], [2017,1,1])\n",
    "    nasdaq = nasdaq.getHistorical()\n",
    "    nasdaq.columns =[\"Date\",\n",
    "                     \"Nasdaq Open\",\n",
    "                     \"Nasdaq High\",\n",
    "                     \"Nasdaq Low\",\n",
    "                     \"Nasdaq Close\",\n",
    "                     \"Nasdaq Adj Close\",\n",
    "                     \"Nasdaq Volume\"]\n",
    "    merged_df = pd.concat([data, nasdaq[[\"Nasdaq Open\",\n",
    "                                        \"Nasdaq High\",\n",
    "                                        \"Nasdaq Low\",\n",
    "                                        \"Nasdaq Close\",\n",
    "                                        \"Nasdaq Adj Close\",\n",
    "                                        \"Nasdaq Volume\"]]], \n",
    "                          axis=1)\n",
    "    dfs.append(merged_df)\n",
    "    "
   ]
  },
  {
   "cell_type": "code",
   "execution_count": 233,
   "metadata": {
    "collapsed": false,
    "deletable": true,
    "editable": true
   },
   "outputs": [
    {
     "data": {
      "text/html": [
       "<div>\n",
       "<table border=\"1\" class=\"dataframe\">\n",
       "  <thead>\n",
       "    <tr style=\"text-align: right;\">\n",
       "      <th></th>\n",
       "      <th>Date</th>\n",
       "      <th>Open</th>\n",
       "      <th>High</th>\n",
       "      <th>Low</th>\n",
       "      <th>Close</th>\n",
       "      <th>Adj Close</th>\n",
       "      <th>Volume</th>\n",
       "      <th>Nasdaq Open</th>\n",
       "      <th>Nasdaq High</th>\n",
       "      <th>Nasdaq Low</th>\n",
       "      <th>Nasdaq Close</th>\n",
       "      <th>Nasdaq Adj Close</th>\n",
       "      <th>Nasdaq Volume</th>\n",
       "    </tr>\n",
       "  </thead>\n",
       "  <tbody>\n",
       "    <tr>\n",
       "      <th>0</th>\n",
       "      <td>2009-01-02</td>\n",
       "      <td>154.454453</td>\n",
       "      <td>161.071075</td>\n",
       "      <td>152.902908</td>\n",
       "      <td>160.820816</td>\n",
       "      <td>160.820816</td>\n",
       "      <td>7213700</td>\n",
       "      <td>1578.869995</td>\n",
       "      <td>1636.030029</td>\n",
       "      <td>1571.979980</td>\n",
       "      <td>1632.209961</td>\n",
       "      <td>1632.209961</td>\n",
       "      <td>1438410000</td>\n",
       "    </tr>\n",
       "    <tr>\n",
       "      <th>1</th>\n",
       "      <td>2009-01-05</td>\n",
       "      <td>160.660660</td>\n",
       "      <td>165.785782</td>\n",
       "      <td>157.657654</td>\n",
       "      <td>164.189194</td>\n",
       "      <td>164.189194</td>\n",
       "      <td>9768200</td>\n",
       "      <td>1621.479980</td>\n",
       "      <td>1640.459961</td>\n",
       "      <td>1604.630005</td>\n",
       "      <td>1628.030029</td>\n",
       "      <td>1628.030029</td>\n",
       "      <td>1816580000</td>\n",
       "    </tr>\n",
       "    <tr>\n",
       "      <th>2</th>\n",
       "      <td>2009-01-06</td>\n",
       "      <td>166.656662</td>\n",
       "      <td>170.570572</td>\n",
       "      <td>163.358353</td>\n",
       "      <td>167.197205</td>\n",
       "      <td>167.197205</td>\n",
       "      <td>12837500</td>\n",
       "      <td>1642.369995</td>\n",
       "      <td>1665.630005</td>\n",
       "      <td>1636.250000</td>\n",
       "      <td>1652.380005</td>\n",
       "      <td>1652.380005</td>\n",
       "      <td>2137640000</td>\n",
       "    </tr>\n",
       "    <tr>\n",
       "      <th>3</th>\n",
       "      <td>2009-01-07</td>\n",
       "      <td>164.324326</td>\n",
       "      <td>165.620621</td>\n",
       "      <td>159.534531</td>\n",
       "      <td>161.166168</td>\n",
       "      <td>161.166168</td>\n",
       "      <td>8980000</td>\n",
       "      <td>1621.630005</td>\n",
       "      <td>1625.369995</td>\n",
       "      <td>1588.199951</td>\n",
       "      <td>1599.060059</td>\n",
       "      <td>1599.060059</td>\n",
       "      <td>2020170000</td>\n",
       "    </tr>\n",
       "    <tr>\n",
       "      <th>4</th>\n",
       "      <td>2009-01-08</td>\n",
       "      <td>159.299301</td>\n",
       "      <td>162.757751</td>\n",
       "      <td>158.828827</td>\n",
       "      <td>162.757751</td>\n",
       "      <td>162.757751</td>\n",
       "      <td>7194100</td>\n",
       "      <td>1590.250000</td>\n",
       "      <td>1617.010010</td>\n",
       "      <td>1584.280029</td>\n",
       "      <td>1617.010010</td>\n",
       "      <td>1617.010010</td>\n",
       "      <td>1968160000</td>\n",
       "    </tr>\n",
       "  </tbody>\n",
       "</table>\n",
       "</div>"
      ],
      "text/plain": [
       "        Date        Open        High         Low       Close   Adj Close  \\\n",
       "0 2009-01-02  154.454453  161.071075  152.902908  160.820816  160.820816   \n",
       "1 2009-01-05  160.660660  165.785782  157.657654  164.189194  164.189194   \n",
       "2 2009-01-06  166.656662  170.570572  163.358353  167.197205  167.197205   \n",
       "3 2009-01-07  164.324326  165.620621  159.534531  161.166168  161.166168   \n",
       "4 2009-01-08  159.299301  162.757751  158.828827  162.757751  162.757751   \n",
       "\n",
       "     Volume  Nasdaq Open  Nasdaq High   Nasdaq Low  Nasdaq Close  \\\n",
       "0   7213700  1578.869995  1636.030029  1571.979980   1632.209961   \n",
       "1   9768200  1621.479980  1640.459961  1604.630005   1628.030029   \n",
       "2  12837500  1642.369995  1665.630005  1636.250000   1652.380005   \n",
       "3   8980000  1621.630005  1625.369995  1588.199951   1599.060059   \n",
       "4   7194100  1590.250000  1617.010010  1584.280029   1617.010010   \n",
       "\n",
       "   Nasdaq Adj Close  Nasdaq Volume  \n",
       "0       1632.209961     1438410000  \n",
       "1       1628.030029     1816580000  \n",
       "2       1652.380005     2137640000  \n",
       "3       1599.060059     2020170000  \n",
       "4       1617.010010     1968160000  "
      ]
     },
     "execution_count": 233,
     "metadata": {},
     "output_type": "execute_result"
    }
   ],
   "source": [
    "dfs[1].head()"
   ]
  },
  {
   "cell_type": "code",
   "execution_count": 234,
   "metadata": {
    "collapsed": false,
    "deletable": true,
    "editable": true
   },
   "outputs": [
    {
     "data": {
      "image/png": "[encoded data removed]",
      "text/plain": [
       "<matplotlib.figure.Figure at 0x141d44860>"
      ]
     },
     "metadata": {},
     "output_type": "display_data"
    }
   ],
   "source": [
    "%matplotlib inline\n",
    "plt.rc('ytick',labelsize=6)\n",
    "plt.rc('xtick',labelsize=6)\n",
    "def explore(dfs):\n",
    "    for i, df in enumerate(dfs):\n",
    "        plt.subplot(3, 2, i+1)\n",
    "        plt.plot(df[\"Date\"], df[\"Adj Close\"], label = tickers[i+1])\n",
    "        plt.ylabel('Adj Close Price', fontsize=6)\n",
    "        plt.xlabel('Date', fontsize=6)\n",
    "        plt.legend(fontsize=6)\n",
    "        plt.grid()\n",
    "    plt.subplot(3, 2, 6)\n",
    "    plt.plot(dfs[0][\"Date\"], dfs[0][\"Nasdaq Adj Close\"], label = \"NASDAQ\")\n",
    "    plt.ylabel('Adj Close Price', fontsize=6)\n",
    "    plt.xlabel('Date', fontsize=6)\n",
    "    plt.legend(fontsize=6)\n",
    "    plt.grid()\n",
    "    plt.show()\n",
    "explore(dfs)"
   ]
  },
  {
   "cell_type": "markdown",
   "metadata": {
    "deletable": true,
    "editable": true
   },
   "source": [
    "# Prepsocessing the Data"
   ]
  },
  {
   "cell_type": "code",
   "execution_count": 396,
   "metadata": {
    "collapsed": false,
    "deletable": true,
    "editable": true
   },
   "outputs": [],
   "source": [
    "from sklearn.preprocessing import MinMaxScaler\n",
    "def preprocess(data):\n",
    "    #r = [np.corrcoef(data['Adj Close'],data[column])[0,1] for column in data if column != \"Date\"]\n",
    "    features = data.drop([#'Adj Close',\n",
    "                          'Nasdaq Adj Close',\n",
    "                          'Open',\n",
    "                          'Close',\n",
    "                          'High',\n",
    "                          'Low',\n",
    "                          'Volume',\n",
    "                          'Nasdaq Open',\n",
    "                          'Nasdaq Close',\n",
    "                          'Nasdaq High',\n",
    "                          'Nasdaq Low',\n",
    "                          'Nasdaq Volume'\n",
    "                          ], axis=1)\n",
    "    features = features.set_index('Date')\n",
    "    target = data[['Date', 'Adj Close']][1:]\n",
    "    target = target.set_index('Date')\n",
    "    \n",
    "    # Split into training and testing set\n",
    "    features_train = features[features.index<='2015-12-31']\n",
    "    features_test = features[features.index>'2015-12-31']\n",
    "    target_train = target[target.index<='2015-12-31']\n",
    "    target_test = target[target.index>'2015-12-31']\n",
    "    # Apply Min Max Scalar for regularization\n",
    "    min_max_scaler = MinMaxScaler()\n",
    "    features_train = pd.DataFrame(min_max_scaler.fit_transform(features_train), \n",
    "                             columns=features_train.columns, \n",
    "                             index=features_train.index)\n",
    "    features_test = pd.DataFrame(min_max_scaler.transform(features_test), \n",
    "                             columns=features_test.columns, \n",
    "                             index=features_test.index)\n",
    "\n",
    "    return features_train, features_test, target_train, target_test"
   ]
  },
  {
   "cell_type": "code",
   "execution_count": 392,
   "metadata": {
    "collapsed": false,
    "deletable": true,
    "editable": true
   },
   "outputs": [],
   "source": [
    "def generate_window(df, window_length):\n",
    "    arr = df.values\n",
    "    num_elements = arr.shape[0]\n",
    "    for start, stop in zip(range(0, arr.shape[0]-window_length), range(window_length, arr.shape[0])):\n",
    "        yield arr[start:stop, :]\n",
    "        \n",
    "def generate_target(df, window_length):\n",
    "    return df.values[window_length : df.values.shape[0]]\n",
    "\n",
    "def apply_rolling_filter(features_train, features_test, target_train, target_test):\n",
    "    # filter training features array\n",
    "    train_feature_array = np.array(list(generate_window(features_train,rolling_window)))\n",
    "    # filter training target array\n",
    "    train_target_array = np.array(list(generate_target(target_train,rolling_window)))\n",
    "    original_shape = train_target_array.shape[0]\n",
    "    for i in range(train_feature_array.shape[0]-original_shape):\n",
    "        train_target_array = np.append(train_target_array, np.median(train_target_array))\n",
    "    # filter testing features array\n",
    "    test_feature_array = np.array(list(generate_window(features_test,rolling_window)))\n",
    "    # filter testing target array\n",
    "    test_target_array = np.array(list(generate_target(target_test, rolling_window)))\n",
    "    original_shape = test_target_array.shape[0]\n",
    "    for i in range(test_feature_array.shape[0]-original_shape):\n",
    "        test_target_array = np.append(test_target_array, np.median(test_target_array))\n",
    "    return train_feature_array, train_target_array, test_feature_array, test_target_array"
   ]
  },
  {
   "cell_type": "markdown",
   "metadata": {
    "deletable": true,
    "editable": true
   },
   "source": [
    "# BenchMark Model (Linear Regression)"
   ]
  },
  {
   "cell_type": "code",
   "execution_count": 398,
   "metadata": {
    "collapsed": false,
    "deletable": true,
    "editable": true
   },
   "outputs": [],
   "source": [
    "from sklearn.linear_model import LinearRegression\n",
    "def apply_linear_regression(train_feature_array, train_target_array, test_feature_array, test_target_array):\n",
    "    model = LinearRegression()\n",
    "    model.fit(train_feature_array, train_target_array)\n",
    "    prediction = model.predict(test_feature_array)\n",
    "    #linearregression.fit(np.array(\n",
    "    #                    [train_feature_array[i][rolling_window-1] for i in range(train_feature_array.shape[0])]),\n",
    "    #                     train_target_array\n",
    "    #                    )\n",
    "    #prediction = linearregression.predict(np.array(\n",
    "    #                    [test_feature_array[i][rolling_window-1] for i in range(test_feature_array.shape[0])]\n",
    "    #                    ))\n",
    "    return prediction"
   ]
  },
  {
   "cell_type": "code",
   "execution_count": 375,
   "metadata": {
    "collapsed": false,
    "deletable": true,
    "editable": true
   },
   "outputs": [],
   "source": [
    "def plot_prices(prediction, test_target_array):\n",
    "    plt.plot(prediction, label='Predicted Adj Close')\n",
    "    plt.plot(test_target_array, label='Actual Adj Close')\n",
    "    plt.legend()\n",
    "    plt.show()"
   ]
  },
  {
   "cell_type": "code",
   "execution_count": 376,
   "metadata": {
    "collapsed": false,
    "deletable": true,
    "editable": true
   },
   "outputs": [],
   "source": [
    "from sklearn.metrics import r2_score, mean_squared_error\n",
    "def evaluate_performance(prediction, test_target_array):\n",
    "    print (\"R2 Score: \", r2_score(test_target_array,prediction))\n",
    "    print (\"Mean Squared Error:\", np.sqrt(mean_squared_error(test_target_array,prediction)))"
   ]
  },
  {
   "cell_type": "code",
   "execution_count": 377,
   "metadata": {
    "collapsed": true
   },
   "outputs": [],
   "source": [
    "def run_linear_regressor(train_feature_array, train_target_array, test_feature_array, test_target_array):\n",
    "    # Apply the beanchmark Linear Regression model\n",
    "    prediction = apply_linear_regression(train_feature_array, train_target_array, test_feature_array, test_target_array)\n",
    "    # Show the performance of the model\n",
    "    print (len(prediction))\n",
    "    plot_prices(prediction, test_target_array)\n",
    "    # Evaluate R2 and Mean Squared Errors\n",
    "    evaluate_performance(prediction, test_target_array)"
   ]
  },
  {
   "cell_type": "code",
   "execution_count": 378,
   "metadata": {
    "collapsed": true
   },
   "outputs": [],
   "source": [
    "def scale_range(X, input_range=[0.0,1.0], target_range=[0.0,1.0]):\n",
    "    '''\n",
    "    Rescale a numpy array from input to target range\n",
    "    :param X: data to scale\n",
    "    :param input_range: optional input range for data: default 0.0:1.0\n",
    "    :param target_range: optional target range for data: default 0.0:1.0\n",
    "    :return: rescaled array, incoming range [min,max]\n",
    "    '''\n",
    "    import numpy as np\n",
    "    orig_range = [np.amin(X), np.amax(X)]\n",
    "    X_std = (X - input_range[0]) / (1.0*(input_range[1] - input_range[0]))\n",
    "    X_scaled = X_std * (1.0*(target_range[1] - target_range[0])) + target_range[0]\n",
    "    return X_scaled, orig_range\n",
    "\n",
    "def normalise_all(data):\n",
    "    '''\n",
    "    Normalize all data in an array of arrays\n",
    "    :param data: data to normalize\n",
    "    :return: array of arrays of normalized data\n",
    "    '''\n",
    "    import numpy as np\n",
    "    normalised_data = []\n",
    "    temp = np.array(data)\n",
    "    mm = [np.amin(temp), np.amax(temp)]  # minmax\n",
    "    tr = [0.0, 1.0]  # target range\n",
    "    for window in data:\n",
    "        normalised_window = []\n",
    "        for p in window:\n",
    "            p_scaled = (p - mm[0]) * (tr[1] - tr[0]) / (mm[1] - mm[0]) + tr[0]\n",
    "            normalised_window.append(p_scaled)\n",
    "        # normalised_window = [((float(p) / float(window[0])) - 1) for p in window]\n",
    "        normalised_data.append(normalised_window)\n",
    "    return normalised_data\n",
    "\n",
    "def create_dataset_for_RNN(data, seq_len=3, tt_split=0.90, normalise=True, pad=None):\n",
    "    '''\n",
    "    Convert an array of data into LSTM format test and train sequences\n",
    "    :param data: array of data to convert\n",
    "    :param seq_len: lookback value for number of entries per LSTM timestep: default 3\n",
    "    :param tt_split: ratio of training data to test data: default = .90\n",
    "    :param normalise_window: optional normalize\n",
    "    :param pad: optional add padding of 0 to match dataset lengths\n",
    "    :return: four arrays: x_train, y_train, x_test, y_test\n",
    "    '''\n",
    "\n",
    "    sequence_length = seq_len + 1\n",
    "    if (pad):\n",
    "        sequence_length = pad+1\n",
    "        #print('pad active')\n",
    "    result = []\n",
    "    data_np = np.array(data)\n",
    "    data_fl = data_np.astype(np.float)\n",
    "    bounds = [np.amin(data_fl), np.amax(data_fl)]\n",
    "\n",
    "    for index in range(len(data) - sequence_length):\n",
    "        if (pad):\n",
    "            x = []\n",
    "            for i in range(0, pad-seq_len):\n",
    "                x.append(data[index])\n",
    "            for i in range(0, seq_len+1):\n",
    "                x.append(data[index + i])\n",
    "        else:\n",
    "            x = data[index: index + sequence_length]\n",
    "        result.append(x)\n",
    "\n",
    "    if normalise:\n",
    "        result = normalise_all(result)\n",
    "    result = np.array(result)\n",
    "\n",
    "    row = round(tt_split * result.shape[0])\n",
    "    train = result[:int(row), :]\n",
    "    # np.random.shuffle(train)\n",
    "    if (pad):\n",
    "        offset = seq_len\n",
    "    x_train = train[:, :-1]\n",
    "    y_train = train[:, -1]\n",
    "    x_test = result[int(row):, :-1]\n",
    "    y_test = result[int(row):, -1]\n",
    "\n",
    "    x_train = np.reshape(x_train, (x_train.shape[0], x_train.shape[1], 1))\n",
    "    x_test = np.reshape(x_test, (x_test.shape[0], x_test.shape[1], 1))\n",
    "\n",
    "    return x_train, y_train, x_test, y_test, bounds"
   ]
  },
  {
   "cell_type": "markdown",
   "metadata": {
    "deletable": true,
    "editable": true
   },
   "source": [
    "# Recurrent Neural Network\n",
    "\n",
    "## Long Short Term Memory (LSTM)"
   ]
  },
  {
   "cell_type": "code",
   "execution_count": 379,
   "metadata": {
    "collapsed": false,
    "deletable": true,
    "editable": true
   },
   "outputs": [],
   "source": [
    "from keras.models import Sequential\n",
    "from keras.layers import Activation, Dense, Dropout, LSTM\n",
    "\n",
    "# build the LSTM Neural Network\n",
    "\n",
    "def build_RNN(train_feature_array, train_target_array, test_feature_array, test_target_array):\n",
    "    model = Sequential()\n",
    "    model.add(LSTM(\n",
    "             input_shape=(rolling_window, train_feature_array.shape[2]),\n",
    "             units=100,\n",
    "             return_sequences=True))\n",
    "    model.add(Dropout(0.2))\n",
    "    model.add(LSTM(\n",
    "              units=50,\n",
    "              return_sequences=False))\n",
    "    model.add(Dropout(0.2))\n",
    "    model.add(Dense(1))\n",
    "#    model.add(Activation('linear'))\n",
    "#    model.compile(loss='mean_squared_error', optimizer='adam')\n",
    "    model.compile(loss='mae', optimizer='nadam', metrics=['mean_squared_error'])\n",
    "    return model"
   ]
  },
  {
   "cell_type": "code",
   "execution_count": 380,
   "metadata": {
    "collapsed": false,
    "deletable": true,
    "editable": true
   },
   "outputs": [],
   "source": [
    "def build_LSTM_model(train_feature_array, train_target_array, test_feature_array, test_target_array):\n",
    "    # Build the model\n",
    "    model = build_RNN(train_feature_array, train_target_array, test_feature_array, test_target_array)\n",
    "    print (model.summary())\n",
    "    # Fit to the training set and validate on 10% of the training set.\n",
    "    train_model = model.fit(train_feature_array, train_target_array, epochs=1000, batch_size=500, validation_split=0.1, verbose=0)\n",
    "    # plot learning history\n",
    "    plt.plot(train_model.history['loss'], label='train')\n",
    "    plt.plot(train_model.history['val_loss'], label='valid')\n",
    "    plt.legend()\n",
    "    plt.show()\n",
    "    return model\n",
    "    \n",
    "def apply_LSTM_model(model, test_feature_array, test_target_array):\n",
    "    # Predict the Adj Closing Prices of the test data set\n",
    "    prediction = model.predict(test_feature_array)\n",
    "    plot_prices(prediction, test_target_array)\n",
    "    # Evaluate the performance\n",
    "    evaluate_performance(prediction, test_target_array)"
   ]
  },
  {
   "cell_type": "code",
   "execution_count": 381,
   "metadata": {
    "collapsed": false,
    "scrolled": true
   },
   "outputs": [],
   "source": [
    "## select the data set\n",
    "#data = dfs[0]\n",
    "## get the training and testing set for features and target variables\n",
    "#features_train, features_test, target_train, target_test = preprocess(data)\n",
    "## set rolling window\n",
    "#rolling_window = 10\n",
    "#train_feature_array, train_target_array, test_feature_array, test_target_array = apply_rolling_filter(features_train, features_test, target_train, target_test)\n",
    "## Run the benchmark model\n",
    "#print ()\n",
    "#print (\"Running Linear Regression Model\")\n",
    "#run_linear_regressor(train_feature_array, train_target_array, test_feature_array, test_target_array)\n",
    "#print ()\n",
    "#print (\"Running RNN Regression Model\")\n",
    "## Run the RNN model\n",
    "#model = build_LSTM_model(train_feature_array, train_target_array, test_feature_array, test_target_array)\n",
    "#apply_LSTM_model(model, test_feature_array, test_target_array)"
   ]
  },
  {
   "cell_type": "code",
   "execution_count": 382,
   "metadata": {
    "collapsed": false
   },
   "outputs": [],
   "source": [
    "def build_LSTM_model(X_close_train, y_close_train, X_close_test, y_close_test, close_bounds):\n",
    "    # Set up hyperparameters\n",
    "    batch_size = 1\n",
    "    epochs = 5 # 200\n",
    "    n_nodes = [128]\n",
    "\n",
    "    # Create two branches of LSTM model\n",
    "    # Create LSTM Adjusted Close network - 1 day tracker \n",
    "    model = Sequential()\n",
    "    model.add(LSTM(n_nodes[0], batch_input_shape=(batch_size, look_back, 1)))\n",
    "    model.add(Dense(1))\n",
    "    model.add(Activation('linear'))\n",
    "    model.compile(loss='mean_squared_error', optimizer='adam')\n",
    "    model.fit(X_close_train, \n",
    "                y_close_train, \n",
    "                epochs=epochs, \n",
    "                batch_size=batch_size, \n",
    "                verbose=2,\n",
    "                validation_split=0.05\n",
    "                )\n",
    "    return model\n",
    "\n",
    "def apply_LSTM_model(model, X_close_train, y_close_train, X_close_test, y_close_test, close_bounds):\n",
    "    prediction = model.predict(X_close_test, batch_size=batch_size)\n",
    "    return prediction"
   ]
  },
  {
   "cell_type": "code",
   "execution_count": 383,
   "metadata": {
    "collapsed": false
   },
   "outputs": [],
   "source": [
    "# Plot the predictions\n",
    "plt.rc('ytick',labelsize=10)\n",
    "plt.rc('xtick',labelsize=10)\n",
    "def plot_prices(prediction, y_close_test):\n",
    "    # Set up plot\n",
    "    fig = plt.figure()\n",
    "    ax = fig.add_subplot(111)\n",
    "\n",
    "    # Add labels\n",
    "    plt.ylabel('Price USD')\n",
    "    plt.xlabel('Trading Days')\n",
    "    # Plot actual and predicted close values\n",
    "\n",
    "    # Offset predictions by one day to align prediction and actual \n",
    "    plt.plot(y_close_test,'#5F5F5F', label='Adjusted Close')\n",
    "    plt.plot(prediction[1:], '#0C91AB', label='Predicted Close')\n",
    "\n",
    "    # Set title\n",
    "    ax.set_title('Trading vs Prediction')\n",
    "    ax.legend(loc='upper left')\n",
    "\n",
    "    plt.show()"
   ]
  },
  {
   "cell_type": "code",
   "execution_count": 384,
   "metadata": {
    "collapsed": false
   },
   "outputs": [],
   "source": [
    "import math\n",
    "from sklearn.metrics import r2_score, mean_squared_error\n",
    "def evaluate_performance_RNN(prediction, y_close_test):\n",
    "    # The mean squared error\n",
    "    testScore = model.evaluate(test_inputs, y_close_test, batch_size=batch_size, verbose=0)\n",
    "    true_delta = testScore*(close_bounds[1]-close_bounds[0])\n",
    "    print ()\n",
    "    print (\"Performance Metrics\")\n",
    "    print (\"---------------------------------------------------------\")\n",
    "    print('Test Score: %.6f MSE (%.6f RMSE)' % (testScore, math.sqrt(testScore)))\n",
    "    print('Delta Price: %.6f - RMSE * Adjusted Close Range' % true_delta)\n",
    "    print (\"R2 Score: \", r2_score(y_close_test[1:],prediction[1:]))\n",
    "    print (\"Mean Squared Error:\", np.sqrt(mean_squared_error(y_close_test[1:],prediction[1:])))"
   ]
  },
  {
   "cell_type": "code",
   "execution_count": null,
   "metadata": {
    "collapsed": false
   },
   "outputs": [
    {
     "name": "stdout",
     "output_type": "stream",
     "text": [
      "[[ 0.01379878]] (1378,)\n",
      "\n",
      "Running Linear Regression Model\n",
      "[ 0.01379878] (1378,)\n",
      "634\n"
     ]
    },
    {
     "data": {
      "image/png": "[encoded data removed]",
      "text/plain": [
       "<matplotlib.figure.Figure at 0x162e426a0>"
      ]
     },
     "metadata": {},
     "output_type": "display_data"
    },
    {
     "name": "stdout",
     "output_type": "stream",
     "text": [
      "R2 Score:  0.976098640238\n",
      "Mean Squared Error: 0.0137303723573\n",
      "\n",
      "Train on 1303 samples, validate on 69 samples\n",
      "Epoch 1/5\n",
      "18s - loss: 0.0013 - val_loss: 0.0014\n",
      "Epoch 2/5\n",
      "15s - loss: 3.4251e-04 - val_loss: 5.9628e-04\n",
      "Epoch 3/5\n"
     ]
    }
   ],
   "source": [
    "# select the data set\n",
    "#data = dfs[0]\n",
    "for data in dfs:\n",
    "    # get the training and testing set for features and target variables\n",
    "    features_train, features_test, target_train, target_test = preprocess(data)\n",
    "    # set rolling window\n",
    "    rolling_window = 10\n",
    "    train_feature_array, train_target_array, test_feature_array, test_target_array = apply_rolling_filter(features_train, features_test, target_train, target_test)\n",
    "    # Reshape into t and t+1\n",
    "    look_back = 10\n",
    "    tt_split = (1.0-.315)\n",
    "\n",
    "    #X_close_train, y_close_train, X_close_test, y_close_test, close_bounds = \\\n",
    "    #    create_dataset_for_RNN(train_target_array, look_back, tt_split, True)\n",
    "    X_close_train, y_close_train, X_close_test, y_close_test, close_bounds = \\\n",
    "        create_dataset_for_RNN(np.array(data['Adj Close']), 1, tt_split, True)\n",
    "\n",
    "    print (X_close_train[0], y_close_train.shape)\n",
    "    X_close_train = X_close_train.reshape(X_close_train.shape[0], X_close_train.shape[-1])\n",
    "    #y_close_train = y_close_train.reshape(y_close_train.shape[0], y_close_train.shape[-1])\n",
    "    X_close_test = X_close_test.reshape(X_close_test.shape[0], X_close_test.shape[-1])\n",
    "    #y_close_test = y_close_test.reshape(y_close_test.shape[0], y_close_test.shape[-1])\n",
    "    # Run the benchmark model\n",
    "    print ()\n",
    "    print (\"Running Linear Regression Model\")\n",
    "    #run_linear_regressor(features_train, target_train, features_test, target_test)\n",
    "    print (X_close_train[0], y_close_train.shape)\n",
    "    run_linear_regressor(X_close_train, y_close_train, X_close_test, y_close_test)\n",
    "    print ()\n",
    "\n",
    "    X_close_train, y_close_train, X_close_test, y_close_test, close_bounds = \\\n",
    "        create_dataset_for_RNN(np.array(data['Adj Close']), look_back, tt_split, True)\n",
    "    model = build_LSTM_model(X_close_train, y_close_train, X_close_test, y_close_test, close_bounds)\n",
    "    prediction = apply_LSTM_model(model, X_close_train, y_close_train, X_close_test, y_close_test, close_bounds)\n",
    "    evaluate_performance_RNN(prediction, y_close_test)\n",
    "    actual_adj_close, r = scale_range(np.array(y_close_test), input_range=[0.0,1.0], target_range=close_bounds)\n",
    "    predicted_adj_close, r = scale_range(np.array(prediction), input_range=[0.0,1.0], target_range=close_bounds)\n",
    "    plot_prices(predicted_adj_close, actual_adj_close)\n",
    "    #plot_prices(prediction, y_close_test)\n"
   ]
  },
  {
   "cell_type": "code",
   "execution_count": null,
   "metadata": {
    "collapsed": false
   },
   "outputs": [],
   "source": [
    "# Trading Algorithm\n",
    "\n",
    "# Create a dataframe for stock data\n",
    "trades_df = pd.DataFrame(columns=('Price','Prediction','PredDelta','State','Shares','IncShares','StockValue','Cash','Folio','IncSum','Performance'))\n",
    "# Create variable for stock ownership\n",
    "own = True\n",
    "\n",
    "# Loop through trading days\n",
    "for i in range(0, len(predicted_adj_close)-1):\n",
    "    # Until the final day in sequence\n",
    "    if i < len(preds_seq_plot)-2:\n",
    "        # For first day, initiate trading\n",
    "        if i == 0:\n",
    "            start_price = actual_adj_close[0]\n",
    "            trades_df.loc[i,'Price'] = start_price\n",
    "            trades_df.loc[i,'Folio'] = 1000.0\n",
    "            trades_df.loc[i,'State'] = 'Buy'\n",
    "            trades_df.loc[i,'Shares'] = math.floor(trades_df.loc[i,'Folio']/start_price)\n",
    "            trades_df.loc[i,'StockValue'] = trades_df.loc[i,'Shares']*start_price\n",
    "            trades_df.loc[i,'Cash'] = trades_df.loc[i,'Folio']-trades_df.loc[i,'StockValue'] \n",
    "            trades_df.loc[i,'PredDelta'] = 0.0\n",
    "            trades_df.loc[i,'IncSum'] = start_price\n",
    "            trades_df.loc[i,'IncShares'] = trades_df.loc[i,'Shares']\n",
    "            buy_price = start_price\n",
    "            own = True\n",
    "        # Otherwise, it's the end of the trading day and we decide on trade executed just after close\n",
    "        else:\n",
    "            # Get yesterday's closing price\n",
    "            price_yest = actual_adj_close[i-1]\n",
    "            # Get today's closing price\n",
    "            price_today = actual_adj_close[i]\n",
    "            # quick calc for sum of increase\n",
    "            if price_today>price_yest:\n",
    "                trades_df.loc[i,'IncSum'] = trades_df.loc[i-1,'IncSum']+price_today-price_yest\n",
    "            else:\n",
    "                trades_df.loc[i,'IncSum'] = trades_df.loc[i-1,'IncSum']\n",
    "            \n",
    "            # Get todays's prediction\n",
    "            pred_today = predicted_adj_close[i+1]\n",
    "            # Get tomorrow's prediction\n",
    "            pred_tomorrow = predicted_adj_close[i+2][0]\n",
    "            # Get delta price\n",
    "            pred_delta = (pred_tomorrow-pred_today) [0]\n",
    "            # Store the price\n",
    "            trades_df.loc[i,'Price'] = price_today\n",
    "            # Store the prediction\n",
    "            trades_df.loc[i,'Prediction'] = pred_tomorrow\n",
    "            # Store prediction delta\n",
    "            trades_df.loc[i,'PredDelta'] = pred_delta\n",
    "\n",
    "            # If the stock is currently owned\n",
    "            if own == True:    \n",
    "                # If the projection is positive\n",
    "                if pred_delta > 0:\n",
    "                    # Hold the stock\n",
    "                    trades_df.loc[i,'State'] = 'Hold'\n",
    "                    trades_df.loc[i,'Shares'] = trades_df.loc[i-1,'Shares']\n",
    "                    trades_df.loc[i,'IncShares'] = trades_df.loc[i-1,'IncShares']\n",
    "                    trades_df.loc[i,'Cash'] = trades_df.loc[i-1,'Cash']\n",
    "                    own = True\n",
    "                else:\n",
    "                    # Sell the stock\n",
    "                    trades_df.loc[i,'State'] = 'Sell'\n",
    "                    trades_df.loc[i,'Shares'] = 0.0\n",
    "                    trades_df.loc[i,'IncShares'] = trades_df.loc[i-1,'IncShares']\n",
    "                    trades_df.loc[i,'Cash'] = trades_df.loc[i-1,'Cash']+(trades_df.loc[i-1,'Shares']*price_today)\n",
    "                    own = False\n",
    "            # If the stock is not owned\n",
    "            else:\n",
    "                # If the projection is positive\n",
    "                if pred_delta > 0:\n",
    "                    # Buy the stock\n",
    "                    trades_df.loc[i,'State'] = 'Buy'\n",
    "                    # Store number of shares (cash/currentprice)\n",
    "                    trades_df.loc[i,'Shares'] = math.floor(trades_df.loc[i-1,'Cash']/price_today)\n",
    "                    trades_df.loc[i,'Cash'] = trades_df.loc[i-1,'Cash']-(trades_df.loc[i,'Shares']*price_today)\n",
    "                    trades_df.loc[i,'IncShares'] = trades_df.loc[i,'Shares']\n",
    "                    own = True\n",
    "                else:\n",
    "                    # Set the state to pass on trading\n",
    "                    trades_df.loc[i,'State'] = 'Pass'\n",
    "                    # Update the number of shares to yesterdays\n",
    "                    trades_df.loc[i,'Shares'] = 0.0\n",
    "                    trades_df.loc[i,'IncShares'] = trades_df.loc[i-1,'IncShares']\n",
    "                    trades_df.loc[i,'Cash'] = trades_df.loc[i-1,'Cash']\n",
    "                    own = False\n",
    "            # Update Folio and Stock Value\n",
    "            trades_df.loc[i,'StockValue'] = trades_df.loc[i,'Shares']*price_today\n",
    "            trades_df.loc[i,'Folio'] =trades_df.loc[i,'StockValue']+trades_df.loc[i,'Cash']\n",
    "\n",
    "    else:\n",
    "        # Update last day since there aren't any more predictions\n",
    "        trades_df.loc[i,'Price'] = actual_adj_close[i]\n",
    "        trades_df.loc[i,'Folio'] = trades_df.loc[i-1,'Folio']\n",
    "        trades_df.loc[i,'Shares'] = trades_df.loc[i-1,'Shares']\n",
    "        trades_df.loc[i,'StockValue'] = trades_df.loc[i,'Price']*trades_df.loc[i,'Shares']\n",
    "        trades_df.loc[i,'State'] = trades_df.loc[i-1,'State']\n",
    "        trades_df.loc[i,'IncShares'] = trades_df.loc[i-1,'IncShares']\n",
    "        trades_df.loc[i,'IncSum'] = trades_df.loc[i-1,'IncSum']\n",
    "        trades_df.loc[i,'Cash'] = trades_df.loc[i-1,'Cash']\n",
    "\n",
    "trades_df['Performance'] = trades_df.loc[:,'Folio']/trades_df.loc[0,'Folio']\n",
    "trades_df['NoLossMarketValue']=trades_df.loc[:,'IncSum']*trades_df.loc[0,'Shares']+trades_df.loc[0,'Cash']\n",
    "trades_df['NoLossMarketPerform']=trades_df.loc[:,'NoLossMarketValue']/trades_df.loc[0,'NoLossMarketValue']\n",
    "trades_df['MarketOpt']=trades_df.loc[:,'IncShares']*trades_df.loc[:,'IncSum']+trades_df.loc[0,'Cash']\n",
    "trades_df['MarketOptPerform']=trades_df.loc[:,'MarketOpt']/trades_df.loc[0,'MarketOpt']\n",
    "trades_df['InactiveValue']=trades_df.loc[0,'IncShares']*trades_df['Price']+trades_df.loc[0,'Cash']\n",
    "trades_df['InactivePerform']=trades_df.loc[:,'InactiveValue']/trades_df.loc[0,'InactiveValue']\n",
    "trades_df.tail()"
   ]
  },
  {
   "cell_type": "code",
   "execution_count": 327,
   "metadata": {
    "collapsed": false
   },
   "outputs": [
    {
     "data": {
      "text/plain": [
       "[<matplotlib.lines.Line2D at 0x1519841d0>]"
      ]
     },
     "execution_count": 327,
     "metadata": {},
     "output_type": "execute_result"
    },
    {
     "data": {
      "image/png": "[encoded data removed]",
      "text/plain": [
       "<matplotlib.figure.Figure at 0x1529ab780>"
      ]
     },
     "metadata": {},
     "output_type": "display_data"
    }
   ],
   "source": [
    "plt.rc('ytick',labelsize=10)\n",
    "plt.rc('xtick',labelsize=10)\n",
    "plt.plot(trades_df['Cash'])"
   ]
  },
  {
   "cell_type": "code",
   "execution_count": null,
   "metadata": {
    "collapsed": true
   },
   "outputs": [],
   "source": []
  }
 ],
 "metadata": {
  "kernelspec": {
   "display_name": "Python 3",
   "language": "python",
   "name": "python3"
  },
  "language_info": {
   "codemirror_mode": {
    "name": "ipython",
    "version": 3
   },
   "file_extension": ".py",
   "mimetype": "text/x-python",
   "name": "python",
   "nbconvert_exporter": "python",
   "pygments_lexer": "ipython3",
   "version": "3.5.3"
  }
 },
 "nbformat": 4,
 "nbformat_minor": 2
}
